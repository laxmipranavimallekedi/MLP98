{
  "nbformat": 4,
  "nbformat_minor": 0,
  "metadata": {
    "colab": {
      "provenance": []
    },
    "kernelspec": {
      "name": "python3",
      "display_name": "Python 3"
    },
    "language_info": {
      "name": "python"
    }
  },
  "cells": [
    {
      "cell_type": "code",
      "execution_count": 1,
      "metadata": {
        "id": "7XodradVup36"
      },
      "outputs": [],
      "source": [
        "import pandas as pd\n",
        "import numpy as np\n",
        "from sklearn.model_selection import train_test_split\n",
        "from sklearn.preprocessing import StandardScaler\n",
        "from sklearn.neural_network import MLPClassifier\n",
        "from sklearn.metrics import mean_squared_error\n",
        "import time"
      ]
    },
    {
      "cell_type": "code",
      "source": [
        "data = pd.read_csv(\"dfdataWeek11.csv\")\n",
        "X = data.drop('outcome', axis=1)\n",
        "y = data['outcome']\n",
        "\n",
        "# Standardize features\n",
        "scaler = StandardScaler()\n",
        "X_scaled = scaler.fit_transform(X)\n",
        "\n",
        "# Results storage\n",
        "results = []\n",
        "\n",
        "# Different dataset sizes\n",
        "sizes = [1000, 10000, 100000]\n",
        "\n",
        "# Different configurations\n",
        "configs = [\n",
        "    {\"name\": \"1 hidden layer 4 nodes\", \"hidden_layer_sizes\": (4,)},\n",
        "    {\"name\": \"2 hidden layers of 4 nodes each\", \"hidden_layer_sizes\": (4, 4)}\n",
        "]"
      ],
      "metadata": {
        "id": "vibzTKz0vryF"
      },
      "execution_count": 2,
      "outputs": []
    },
    {
      "cell_type": "code",
      "source": [
        "for size in sizes:\n",
        "    # Sample the data\n",
        "    if size > len(X_scaled):\n",
        "        # If requested size is larger, use sampling with replacement\n",
        "        indices = np.random.choice(len(X_scaled), size, replace=True)\n",
        "    else:\n",
        "        indices = np.random.choice(len(X_scaled), size, replace=False)\n",
        "\n",
        "    X_sample = X_scaled[indices]\n",
        "    y_sample = y.iloc[indices]\n",
        "\n",
        "    # Split into train/validation\n",
        "    X_train, X_val, y_train, y_val = train_test_split(\n",
        "        X_sample, y_sample, test_size=0.2, random_state=42\n",
        "    )\n",
        "\n",
        "    for config in configs:\n",
        "        # Train model\n",
        "        start_time = time.time()\n",
        "\n",
        "        model = MLPClassifier(\n",
        "            hidden_layer_sizes=config[\"hidden_layer_sizes\"],\n",
        "            max_iter=1000,\n",
        "            random_state=42\n",
        "        )\n",
        "\n",
        "        model.fit(X_train, y_train)\n",
        "\n",
        "        # Predict\n",
        "        y_train_pred = model.predict(X_train)\n",
        "        y_val_pred = model.predict(X_val)\n",
        "\n",
        "        # Calculate errors\n",
        "        train_error = mean_squared_error(y_train, y_train_pred)\n",
        "        val_error = mean_squared_error(y_val, y_val_pred)\n",
        "\n",
        "        execution_time = time.time() - start_time\n",
        "\n",
        "        # Store results\n",
        "        results.append({\n",
        "            'Data size': size,\n",
        "            'Configuration': config[\"name\"],\n",
        "            'Training error': train_error,\n",
        "            'Validation error': val_error,\n",
        "            'Time of execution': execution_time\n",
        "        })\n",
        "\n",
        "# Create results dataframe\n",
        "results_df = pd.DataFrame(results)\n",
        "print(results_df)"
      ],
      "metadata": {
        "colab": {
          "base_uri": "https://localhost:8080/"
        },
        "id": "7-kUdyRDvu1Y",
        "outputId": "39564fd5-2ca7-40c5-99b9-af9fce2baebd"
      },
      "execution_count": 3,
      "outputs": [
        {
          "output_type": "stream",
          "name": "stdout",
          "text": [
            "   Data size                    Configuration  Training error  \\\n",
            "0       1000           1 hidden layer 4 nodes        0.005000   \n",
            "1       1000  2 hidden layers of 4 nodes each        0.002500   \n",
            "2      10000           1 hidden layer 4 nodes        0.001000   \n",
            "3      10000  2 hidden layers of 4 nodes each        0.000625   \n",
            "4     100000           1 hidden layer 4 nodes        0.001112   \n",
            "5     100000  2 hidden layers of 4 nodes each        0.000850   \n",
            "\n",
            "   Validation error  Time of execution  \n",
            "0           0.03000           3.798759  \n",
            "1           0.01000           3.177382  \n",
            "2           0.00200           4.109497  \n",
            "3           0.00150           5.327000  \n",
            "4           0.00075           9.052965  \n",
            "5           0.00070          10.062551  \n"
          ]
        }
      ]
    }
  ]
}